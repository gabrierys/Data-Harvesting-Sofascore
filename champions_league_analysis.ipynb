{
 "cells": [
  {
   "cell_type": "markdown",
   "id": "d2a7b57e",
   "metadata": {},
   "source": [
    "<img src='https://www.unifor.br/o/unifor-theme/images/unifor-logo-horizontal.svg' width=\"250px\">\n",
    "\n",
    "# DATA HARVESTING / Projeto da Disciplina\n",
    "\n",
    "Prof.: Ms. Alex Lima<br>\n",
    "MBA em Ciência de Dados<br>\n",
    "Universidade de Fortaleza\n",
    "\n",
    "**Gabriela Ferreira Coutinho - 2418581**</br>"
   ]
  },
  {
   "cell_type": "markdown",
   "id": "19908afc",
   "metadata": {},
   "source": [
    "# 1. Capturando as URLs para Web Scraping"
   ]
  },
  {
   "cell_type": "markdown",
   "id": "5cf2aeba",
   "metadata": {},
   "source": [
    "## 1.1 Instalação e Configuração "
   ]
  },
  {
   "cell_type": "code",
   "execution_count": null,
   "id": "f037b4fa",
   "metadata": {},
   "outputs": [],
   "source": [
    "from selenium import webdriver\n",
    "from selenium.webdriver.chrome.service import Service\n",
    "from selenium.webdriver.common.by import By\n",
    "from selenium.webdriver.chrome.options import Options\n",
    "from selenium.webdriver.support.ui import WebDriverWait\n",
    "from selenium.webdriver.support import expected_conditions as EC\n",
    "from webdriver_manager.chrome import ChromeDriverManager\n",
    "import time\n",
    "import pandas as pd\n",
    "\n",
    "# 🔹 Configuração do Selenium para evitar bloqueios\n",
    "chrome_options = Options()\n",
    "chrome_options.add_argument(\"--window-size=1920x1080\")\n",
    "chrome_options.add_argument(\"--disable-blink-features=AutomationControlled\")\n",
    "chrome_options.add_argument(\"user-agent=Mozilla/5.0 (Windows NT 10.0; Win64; x64) AppleWebKit/537.36 (KHTML, like Gecko) Chrome/110.0.0.0 Safari/537.36\")\n",
    "\n",
    "# 🔹 Inicializa o WebDriver\n",
    "service = Service(ChromeDriverManager().install())\n",
    "driver = webdriver.Chrome(service=service, options=chrome_options)\n",
    "\n",
    "print(\"✅ Selenium configurado com sucesso!\")"
   ]
  },
  {
   "cell_type": "markdown",
   "id": "b0c2df57",
   "metadata": {},
   "source": [
    "## 1.2 Acessar a Página Principal"
   ]
  },
  {
   "cell_type": "code",
   "execution_count": null,
   "id": "372707bb",
   "metadata": {},
   "outputs": [],
   "source": [
    "# 🔹 URL da página principal do torneio\n",
    "url_base = \"https://www.sofascore.com/pt/torneio/futebol/europe/uefa-champions-league/7\"\n",
    "driver.get(url_base)\n",
    "\n",
    "# 🔹 Espera a página carregar totalmente\n",
    "WebDriverWait(driver, 15).until(EC.presence_of_element_located((By.TAG_NAME, \"body\")))\n",
    "time.sleep(5)  # Tempo extra para garantir carregamento\n",
    "\n",
    "print(\"✅ Página carregada com sucesso!\")"
   ]
  },
  {
   "cell_type": "markdown",
   "id": "b9218ac9",
   "metadata": {},
   "source": [
    "## 1.3 Abrir o Dropdown e Coletar as Temporadas"
   ]
  },
  {
   "cell_type": "code",
   "execution_count": null,
   "id": "d2ad0109",
   "metadata": {},
   "outputs": [],
   "source": [
    "# 🔹 Clicar no botão do dropdown para abrir a lista de temporadas\n",
    "try:\n",
    "    dropdown_button = WebDriverWait(driver, 10).until(\n",
    "        EC.element_to_be_clickable((By.CLASS_NAME, \"DropdownButton\"))\n",
    "    )\n",
    "    dropdown_button.click()\n",
    "    time.sleep(3)  # Espera os itens carregarem\n",
    "except Exception as e:\n",
    "    print(\"🚨 Erro ao abrir o dropdown das temporadas:\", e)\n",
    "    driver.quit()\n",
    "    exit()\n",
    "\n",
    "# 🔹 Coletar os IDs das temporadas\n",
    "temporadas_urls = {}\n",
    "\n",
    "try:\n",
    "    # 🔹 Buscar a lista de temporadas toda vez antes de interagir\n",
    "    temporadas_elements = driver.find_elements(By.XPATH, \"//ul[@role='listbox']/li\")\n",
    "    temporadas_textos = [item.text.strip() for item in temporadas_elements]\n",
    "\n",
    "    for nome_temporada in temporadas_textos:\n",
    "        # 🔹 Reabre o dropdown para garantir que ele ainda está disponível\n",
    "        dropdown_button = WebDriverWait(driver, 10).until(\n",
    "            EC.element_to_be_clickable((By.CLASS_NAME, \"DropdownButton\"))\n",
    "        )\n",
    "        dropdown_button.click()\n",
    "        time.sleep(2)\n",
    "\n",
    "        # 🔹 Rebusca a lista de temporadas antes de clicar\n",
    "        temporadas_elements = driver.find_elements(By.XPATH, \"//ul[@role='listbox']/li\")\n",
    "\n",
    "        for item in temporadas_elements:\n",
    "            if item.text.strip() == nome_temporada:\n",
    "                item.click()  # Seleciona a temporada para carregar a página correta\n",
    "                time.sleep(3)\n",
    "\n",
    "                # 🔹 Coletar o ID da URL após a seleção\n",
    "                temporada_id = driver.current_url.split(\"#id:\")[-1]\n",
    "                url_final = f\"https://www.sofascore.com/pt/torneio/futebol/europe/uefa-champions-league/7#id:{temporada_id}\"\n",
    "                temporadas_urls[nome_temporada] = url_final\n",
    "                break\n",
    "\n",
    "except Exception as e:\n",
    "    print(\"🚨 Erro ao coletar as temporadas:\", e)\n",
    "\n",
    "print(\"✅ Temporadas coletadas com sucesso!\")\n"
   ]
  },
  {
   "cell_type": "markdown",
   "id": "6e58673a",
   "metadata": {},
   "source": [
    "## 1.4 Mostrar as 10 Temporadas Coletadas"
   ]
  },
  {
   "cell_type": "code",
   "execution_count": null,
   "id": "86ec29b5",
   "metadata": {},
   "outputs": [],
   "source": [
    "# 🔹 Filtrar apenas as 10 últimas temporadas\n",
    "temporadas_filtradas = dict(list(temporadas_urls.items())[:10])\n",
    "\n",
    "# 🔹 Exibe os IDs e URLs corrigidas\n",
    "print(\"\\n📌 Temporadas encontradas no Sofascore:\")\n",
    "for temporada, url in temporadas_filtradas.items():\n",
    "    print(f\"{temporada}: {url}\")\n"
   ]
  },
  {
   "cell_type": "markdown",
   "id": "e2559f79",
   "metadata": {},
   "source": [
    "## 1.5 Fechar o navegador "
   ]
  },
  {
   "cell_type": "code",
   "execution_count": null,
   "id": "3c3bb007",
   "metadata": {},
   "outputs": [],
   "source": [
    "# 🔹 Fechar o navegador ao fim do processo\n",
    "driver.quit()\n",
    "print(\"✅ Navegador fechado com sucesso!\")"
   ]
  },
  {
   "cell_type": "markdown",
   "id": "bd468808",
   "metadata": {},
   "source": [
    "## 1.6 Salvar temporadas como CSV"
   ]
  },
  {
   "cell_type": "code",
   "execution_count": null,
   "id": "00cd6c3c",
   "metadata": {},
   "outputs": [],
   "source": [
    "import os\n",
    "import pandas as pd\n",
    "\n",
    "# 🔹 Criar a pasta 'data' caso não exista\n",
    "os.makedirs(\"data\", exist_ok=True)\n",
    "\n",
    "# 🔹 Caminho do arquivo CSV\n",
    "csv_path = \"data/temporadas_urls.csv\"\n",
    "\n",
    "# 🔹 Converter dicionário para DataFrame e salvar\n",
    "df_temporadas = pd.DataFrame(list(temporadas_filtradas.items()), columns=[\"Temporada\", \"URL\"])\n",
    "df_temporadas.to_csv(csv_path, index=False, encoding=\"utf-8\")\n",
    "\n",
    "print(f\"✅ Temporadas salvas em {csv_path}!\")\n"
   ]
  },
  {
   "cell_type": "markdown",
   "id": "f1f3599f",
   "metadata": {},
   "source": [
    "# 2. Capturar dados dos jogadores das temporadas"
   ]
  },
  {
   "cell_type": "markdown",
   "id": "1419a9f8",
   "metadata": {},
   "source": [
    "## 2.1 Carregar as Temporadas do CSV"
   ]
  },
  {
   "cell_type": "code",
   "execution_count": null,
   "id": "ad22e7a5",
   "metadata": {},
   "outputs": [],
   "source": [
    "import pandas as pd\n",
    "\n",
    "# 🔹 Caminho do arquivo CSV salvo anteriormente\n",
    "csv_path = \"data/temporadas_urls.csv\"\n",
    "\n",
    "# 🔹 Carregar o CSV e transformar em dicionário {Temporada: URL}\n",
    "df_temporadas = pd.read_csv(csv_path)\n",
    "temporadas_urls = dict(zip(df_temporadas[\"Temporada\"], df_temporadas[\"URL\"]))\n",
    "\n",
    "print(f\"✅ {len(temporadas_urls)} temporadas carregadas do CSV para scraping.\")\n"
   ]
  },
  {
   "cell_type": "markdown",
   "id": "9cce0fd4",
   "metadata": {},
   "source": [
    "## 2.2 Função para Coletar Dados de uma Temporada"
   ]
  },
  {
   "cell_type": "markdown",
   "id": "f48c9b31",
   "metadata": {},
   "source": [
    "### 2.2.1 Configuração Inicial"
   ]
  },
  {
   "cell_type": "code",
   "execution_count": null,
   "id": "aae81d1a",
   "metadata": {},
   "outputs": [],
   "source": [
    "# 🔹 Importação das bibliotecas necessárias\n",
    "import os\n",
    "import time\n",
    "import random\n",
    "import requests\n",
    "import pandas as pd\n",
    "from bs4 import BeautifulSoup\n",
    "from selenium import webdriver\n",
    "from selenium.webdriver.chrome.service import Service\n",
    "from selenium.webdriver.chrome.options import Options\n",
    "from selenium.webdriver.common.by import By\n",
    "from selenium.webdriver.support.ui import WebDriverWait\n",
    "from selenium.webdriver.support import expected_conditions as EC\n",
    "from webdriver_manager.chrome import ChromeDriverManager\n",
    "\n",
    "# 🔹 Configuração do Selenium para evitar bloqueios\n",
    "chrome_options = Options()\n",
    "chrome_options.add_argument(\"--window-size=1920x1080\")\n",
    "chrome_options.add_argument(\"--disable-blink-features=AutomationControlled\")\n",
    "chrome_options.add_argument(\"user-agent=Mozilla/5.0 (Windows NT 10.0; Win64; x64) AppleWebKit/537.36 (KHTML, like Gecko) Chrome/112.0.0.0 Safari/537.36\")\n",
    "\n",
    "# 🔹  \n",
    "service = Service(ChromeDriverManager().install())\n",
    "driver = webdriver.Chrome(service=service, options=chrome_options)\n",
    "\n",
    "# 🔹 Criar a pasta \"data\" para armazenar os resultados\n",
    "os.makedirs(\"data\", exist_ok=True)\n",
    "\n",
    "print(\"✅ Configuração inicial concluída!\")\n"
   ]
  },
  {
   "cell_type": "markdown",
   "id": "a07d4a8a",
   "metadata": {},
   "source": [
    "### 2.2.2 Carregar Temporadas do CSV"
   ]
  },
  {
   "cell_type": "code",
   "execution_count": null,
   "id": "6a3076a2",
   "metadata": {},
   "outputs": [],
   "source": [
    "# 🔹 Carregar as URLs das temporadas do arquivo CSV\n",
    "csv_path = \"data/temporadas_urls.csv\"\n",
    "\n",
    "if os.path.exists(csv_path):\n",
    "    df_temporadas = pd.read_csv(csv_path)\n",
    "    temporadas_urls = dict(zip(df_temporadas[\"Temporada\"], df_temporadas[\"URL\"]))\n",
    "    print(f\"✅ {len(temporadas_urls)} temporadas carregadas do CSV para scraping.\")\n",
    "else:\n",
    "    print(\"❌ Arquivo de temporadas não encontrado. Execute a etapa de coleta de URLs primeiro!\")"
   ]
  },
  {
   "cell_type": "markdown",
   "id": "1922e564",
   "metadata": {},
   "source": [
    "### 2.2.3 Função para Coletar Estatísticas dos Jogadores"
   ]
  },
  {
   "cell_type": "code",
   "execution_count": null,
   "id": "3cc5e3ae",
   "metadata": {},
   "outputs": [],
   "source": [
    "# 🔹 Mapeamento das abas desejadas para coleta de estatísticas\n",
    "abas_desejadas = {\n",
    "    \"attack\": \"Ataque\",\n",
    "    \"defence\": \"Defesa\",\n",
    "    \"passing\": \"Passe\",\n",
    "    \"goalkeeper\": \"Goleiro\"\n",
    "}\n",
    "\n",
    "def coletar_dados_temporada(temporada, url):\n",
    "    print(f\"\\n🔄 Acessando temporada {temporada}: {url}\")\n",
    "\n",
    "    # Abrindo a página com Selenium\n",
    "    driver.get(url)\n",
    "    time.sleep(5)\n",
    "\n",
    "    try:\n",
    "        WebDriverWait(driver, 15).until(\n",
    "            EC.presence_of_element_located((By.TAG_NAME, \"table\"))\n",
    "        )\n",
    "\n",
    "        for aba_id, nome_aba in abas_desejadas.items():\n",
    "            print(f\"\\n🟡 Coletando dados da aba {nome_aba}...\")\n",
    "\n",
    "            # Clicar na aba correta\n",
    "            try:\n",
    "                aba_botao = driver.find_element(By.XPATH, f\"//button[@data-tabid='{aba_id}']\")\n",
    "                driver.execute_script(\"arguments[0].click();\", aba_botao)\n",
    "                time.sleep(3)  # Tempo para a página carregar os novos dados\n",
    "            except:\n",
    "                print(f\"❌ Não foi possível acessar a aba {nome_aba}. Pulando...\")\n",
    "                continue\n",
    "\n",
    "            # Capturar a tabela da aba\n",
    "            try:\n",
    "                tabela = driver.find_element(By.TAG_NAME, \"table\")\n",
    "\n",
    "                # Capturar cabeçalhos\n",
    "                cabecalhos = [th.text.strip() for th in tabela.find_elements(By.TAG_NAME, \"th\")]\n",
    "                cabecalhos.insert(1, \"Time\")  # Adicionar a coluna \"Time\"\n",
    "\n",
    "                dados_totais = []\n",
    "\n",
    "                # Capturar linhas da tabela\n",
    "                linhas = tabela.find_elements(By.TAG_NAME, \"tr\")\n",
    "                for linha in linhas[1:]:\n",
    "                    colunas = linha.find_elements(By.TAG_NAME, \"td\")\n",
    "\n",
    "                    if colunas:\n",
    "                        try:\n",
    "                            # Pega o nome do time na imagem\n",
    "                            time_element = colunas[1].find_element(By.TAG_NAME, \"img\")\n",
    "                            nome_time = time_element.get_attribute(\"alt\") if time_element else \"Desconhecido\"\n",
    "                        except:\n",
    "                            nome_time = \"Desconhecido\"\n",
    "\n",
    "                        # Captura os valores das colunas\n",
    "                        dados_linha = [coluna.text.strip() for coluna in colunas]\n",
    "\n",
    "                        # Capturar \"Nota Sofascore\" corretamente\n",
    "                        try:\n",
    "                            nota_element = colunas[-1].find_element(By.XPATH, \".//span\")\n",
    "                            nota_sofascore = nota_element.text.strip() if nota_element else \"\"\n",
    "                        except:\n",
    "                            nota_sofascore = \"\"\n",
    "\n",
    "                        # Adicionar a nota ao final da linha\n",
    "                        dados_linha.append(nota_sofascore)\n",
    "\n",
    "                        # Inserir o nome do time na segunda posição\n",
    "                        dados_linha.insert(1, nome_time)\n",
    "\n",
    "                        dados_totais.append(dados_linha)\n",
    "\n",
    "                # Criar a pasta específica para a aba\n",
    "                pasta_aba = f\"data/{nome_aba}\"\n",
    "                os.makedirs(pasta_aba, exist_ok=True)\n",
    "\n",
    "                # Salvar em CSV\n",
    "                if dados_totais:\n",
    "                    df = pd.DataFrame(dados_totais, columns=cabecalhos + [\"Nota Sofascore\"])\n",
    "                    nome_arquivo = f\"{pasta_aba}/estatisticas_jogadores_{temporada.replace('/', '-')}.csv\"\n",
    "                    df.to_csv(nome_arquivo, index=False, encoding=\"utf-8\")\n",
    "                    print(f\"✅ Dados da aba {nome_aba} salvos em {nome_arquivo}\")\n",
    "                else:\n",
    "                    print(f\"❌ Nenhum dado encontrado na aba {nome_aba}.\")\n",
    "\n",
    "            except Exception as e:\n",
    "                print(f\"⚠️ Erro ao coletar dados da aba {nome_aba}: {e}\")\n",
    "\n",
    "    except Exception as e:\n",
    "        print(f\"🚨 Erro ao carregar a página da temporada {temporada}: {e}\")"
   ]
  },
  {
   "cell_type": "markdown",
   "id": "b0a47f8a",
   "metadata": {},
   "source": [
    "### 2.2.4 Executar Web Scraping para Todas as Temporadas"
   ]
  },
  {
   "cell_type": "code",
   "execution_count": null,
   "id": "5f69c52a",
   "metadata": {},
   "outputs": [
    {
     "ename": "KeyboardInterrupt",
     "evalue": "",
     "output_type": "error",
     "traceback": [
      "\u001b[31m---------------------------------------------------------------------------\u001b[39m",
      "\u001b[31mKeyboardInterrupt\u001b[39m                         Traceback (most recent call last)",
      "\u001b[36mCell\u001b[39m\u001b[36m \u001b[39m\u001b[32mIn[27]\u001b[39m\u001b[32m, line 6\u001b[39m\n\u001b[32m      3\u001b[39m temporadas_urls = \u001b[38;5;28mdict\u001b[39m(\u001b[38;5;28mzip\u001b[39m(df_temporadas[\u001b[33m\"\u001b[39m\u001b[33mTemporada\u001b[39m\u001b[33m\"\u001b[39m], df_temporadas[\u001b[33m\"\u001b[39m\u001b[33mURL\u001b[39m\u001b[33m\"\u001b[39m]))\n\u001b[32m      5\u001b[39m \u001b[38;5;28;01mfor\u001b[39;00m temporada, url \u001b[38;5;129;01min\u001b[39;00m temporadas_urls.items():\n\u001b[32m----> \u001b[39m\u001b[32m6\u001b[39m     \u001b[43mcoletar_dados_temporada\u001b[49m\u001b[43m(\u001b[49m\u001b[43mtemporada\u001b[49m\u001b[43m,\u001b[49m\u001b[43m \u001b[49m\u001b[43murl\u001b[49m\u001b[43m)\u001b[49m\n\u001b[32m      8\u001b[39m \u001b[38;5;66;03m# 🔹 Fechar o navegador ao final do processo\u001b[39;00m\n\u001b[32m      9\u001b[39m driver.quit()\n",
      "\u001b[36mCell\u001b[39m\u001b[36m \u001b[39m\u001b[32mIn[25]\u001b[39m\u001b[32m, line 13\u001b[39m, in \u001b[36mcoletar_dados_temporada\u001b[39m\u001b[34m(temporada, url)\u001b[39m\n\u001b[32m     10\u001b[39m \u001b[38;5;28mprint\u001b[39m(\u001b[33mf\u001b[39m\u001b[33m\"\u001b[39m\u001b[38;5;130;01m\\n\u001b[39;00m\u001b[33m🔄 Acessando temporada \u001b[39m\u001b[38;5;132;01m{\u001b[39;00mtemporada\u001b[38;5;132;01m}\u001b[39;00m\u001b[33m: \u001b[39m\u001b[38;5;132;01m{\u001b[39;00murl\u001b[38;5;132;01m}\u001b[39;00m\u001b[33m\"\u001b[39m)\n\u001b[32m     12\u001b[39m \u001b[38;5;66;03m# Abrindo a página com Selenium\u001b[39;00m\n\u001b[32m---> \u001b[39m\u001b[32m13\u001b[39m \u001b[43mdriver\u001b[49m\u001b[43m.\u001b[49m\u001b[43mget\u001b[49m\u001b[43m(\u001b[49m\u001b[43murl\u001b[49m\u001b[43m)\u001b[49m\n\u001b[32m     14\u001b[39m time.sleep(\u001b[32m5\u001b[39m)\n\u001b[32m     16\u001b[39m \u001b[38;5;28;01mtry\u001b[39;00m:\n",
      "\u001b[36mFile \u001b[39m\u001b[32m~/champions-league-analysis/venv/lib/python3.13/site-packages/selenium/webdriver/remote/webdriver.py:454\u001b[39m, in \u001b[36mWebDriver.get\u001b[39m\u001b[34m(self, url)\u001b[39m\n\u001b[32m    436\u001b[39m \u001b[38;5;28;01mdef\u001b[39;00m\u001b[38;5;250m \u001b[39m\u001b[34mget\u001b[39m(\u001b[38;5;28mself\u001b[39m, url: \u001b[38;5;28mstr\u001b[39m) -> \u001b[38;5;28;01mNone\u001b[39;00m:\n\u001b[32m    437\u001b[39m \u001b[38;5;250m    \u001b[39m\u001b[33;03m\"\"\"Navigate the browser to the specified URL in the current window or\u001b[39;00m\n\u001b[32m    438\u001b[39m \u001b[33;03m    tab.\u001b[39;00m\n\u001b[32m    439\u001b[39m \n\u001b[32m   (...)\u001b[39m\u001b[32m    452\u001b[39m \u001b[33;03m    >>> driver.get(\"https://example.com\")\u001b[39;00m\n\u001b[32m    453\u001b[39m \u001b[33;03m    \"\"\"\u001b[39;00m\n\u001b[32m--> \u001b[39m\u001b[32m454\u001b[39m     \u001b[38;5;28;43mself\u001b[39;49m\u001b[43m.\u001b[49m\u001b[43mexecute\u001b[49m\u001b[43m(\u001b[49m\u001b[43mCommand\u001b[49m\u001b[43m.\u001b[49m\u001b[43mGET\u001b[49m\u001b[43m,\u001b[49m\u001b[43m \u001b[49m\u001b[43m{\u001b[49m\u001b[33;43m\"\u001b[39;49m\u001b[33;43murl\u001b[39;49m\u001b[33;43m\"\u001b[39;49m\u001b[43m:\u001b[49m\u001b[43m \u001b[49m\u001b[43murl\u001b[49m\u001b[43m}\u001b[49m\u001b[43m)\u001b[49m\n",
      "\u001b[36mFile \u001b[39m\u001b[32m~/champions-league-analysis/venv/lib/python3.13/site-packages/selenium/webdriver/remote/webdriver.py:427\u001b[39m, in \u001b[36mWebDriver.execute\u001b[39m\u001b[34m(self, driver_command, params)\u001b[39m\n\u001b[32m    424\u001b[39m     \u001b[38;5;28;01melif\u001b[39;00m \u001b[33m\"\u001b[39m\u001b[33msessionId\u001b[39m\u001b[33m\"\u001b[39m \u001b[38;5;129;01mnot\u001b[39;00m \u001b[38;5;129;01min\u001b[39;00m params:\n\u001b[32m    425\u001b[39m         params[\u001b[33m\"\u001b[39m\u001b[33msessionId\u001b[39m\u001b[33m\"\u001b[39m] = \u001b[38;5;28mself\u001b[39m.session_id\n\u001b[32m--> \u001b[39m\u001b[32m427\u001b[39m response = \u001b[38;5;28;43mself\u001b[39;49m\u001b[43m.\u001b[49m\u001b[43mcommand_executor\u001b[49m\u001b[43m.\u001b[49m\u001b[43mexecute\u001b[49m\u001b[43m(\u001b[49m\u001b[43mdriver_command\u001b[49m\u001b[43m,\u001b[49m\u001b[43m \u001b[49m\u001b[43mparams\u001b[49m\u001b[43m)\u001b[49m\n\u001b[32m    428\u001b[39m \u001b[38;5;28;01mif\u001b[39;00m response:\n\u001b[32m    429\u001b[39m     \u001b[38;5;28mself\u001b[39m.error_handler.check_response(response)\n",
      "\u001b[36mFile \u001b[39m\u001b[32m~/champions-league-analysis/venv/lib/python3.13/site-packages/selenium/webdriver/remote/remote_connection.py:404\u001b[39m, in \u001b[36mRemoteConnection.execute\u001b[39m\u001b[34m(self, command, params)\u001b[39m\n\u001b[32m    402\u001b[39m trimmed = \u001b[38;5;28mself\u001b[39m._trim_large_entries(params)\n\u001b[32m    403\u001b[39m LOGGER.debug(\u001b[33m\"\u001b[39m\u001b[38;5;132;01m%s\u001b[39;00m\u001b[33m \u001b[39m\u001b[38;5;132;01m%s\u001b[39;00m\u001b[33m \u001b[39m\u001b[38;5;132;01m%s\u001b[39;00m\u001b[33m\"\u001b[39m, command_info[\u001b[32m0\u001b[39m], url, \u001b[38;5;28mstr\u001b[39m(trimmed))\n\u001b[32m--> \u001b[39m\u001b[32m404\u001b[39m \u001b[38;5;28;01mreturn\u001b[39;00m \u001b[38;5;28;43mself\u001b[39;49m\u001b[43m.\u001b[49m\u001b[43m_request\u001b[49m\u001b[43m(\u001b[49m\u001b[43mcommand_info\u001b[49m\u001b[43m[\u001b[49m\u001b[32;43m0\u001b[39;49m\u001b[43m]\u001b[49m\u001b[43m,\u001b[49m\u001b[43m \u001b[49m\u001b[43murl\u001b[49m\u001b[43m,\u001b[49m\u001b[43m \u001b[49m\u001b[43mbody\u001b[49m\u001b[43m=\u001b[49m\u001b[43mdata\u001b[49m\u001b[43m)\u001b[49m\n",
      "\u001b[36mFile \u001b[39m\u001b[32m~/champions-league-analysis/venv/lib/python3.13/site-packages/selenium/webdriver/remote/remote_connection.py:428\u001b[39m, in \u001b[36mRemoteConnection._request\u001b[39m\u001b[34m(self, method, url, body)\u001b[39m\n\u001b[32m    425\u001b[39m     body = \u001b[38;5;28;01mNone\u001b[39;00m\n\u001b[32m    427\u001b[39m \u001b[38;5;28;01mif\u001b[39;00m \u001b[38;5;28mself\u001b[39m._client_config.keep_alive:\n\u001b[32m--> \u001b[39m\u001b[32m428\u001b[39m     response = \u001b[38;5;28;43mself\u001b[39;49m\u001b[43m.\u001b[49m\u001b[43m_conn\u001b[49m\u001b[43m.\u001b[49m\u001b[43mrequest\u001b[49m\u001b[43m(\u001b[49m\u001b[43mmethod\u001b[49m\u001b[43m,\u001b[49m\u001b[43m \u001b[49m\u001b[43murl\u001b[49m\u001b[43m,\u001b[49m\u001b[43m \u001b[49m\u001b[43mbody\u001b[49m\u001b[43m=\u001b[49m\u001b[43mbody\u001b[49m\u001b[43m,\u001b[49m\u001b[43m \u001b[49m\u001b[43mheaders\u001b[49m\u001b[43m=\u001b[49m\u001b[43mheaders\u001b[49m\u001b[43m,\u001b[49m\u001b[43m \u001b[49m\u001b[43mtimeout\u001b[49m\u001b[43m=\u001b[49m\u001b[38;5;28;43mself\u001b[39;49m\u001b[43m.\u001b[49m\u001b[43m_client_config\u001b[49m\u001b[43m.\u001b[49m\u001b[43mtimeout\u001b[49m\u001b[43m)\u001b[49m\n\u001b[32m    429\u001b[39m     statuscode = response.status\n\u001b[32m    430\u001b[39m \u001b[38;5;28;01melse\u001b[39;00m:\n",
      "\u001b[36mFile \u001b[39m\u001b[32m~/champions-league-analysis/venv/lib/python3.13/site-packages/urllib3/_request_methods.py:143\u001b[39m, in \u001b[36mRequestMethods.request\u001b[39m\u001b[34m(self, method, url, body, fields, headers, json, **urlopen_kw)\u001b[39m\n\u001b[32m    135\u001b[39m     \u001b[38;5;28;01mreturn\u001b[39;00m \u001b[38;5;28mself\u001b[39m.request_encode_url(\n\u001b[32m    136\u001b[39m         method,\n\u001b[32m    137\u001b[39m         url,\n\u001b[32m   (...)\u001b[39m\u001b[32m    140\u001b[39m         **urlopen_kw,\n\u001b[32m    141\u001b[39m     )\n\u001b[32m    142\u001b[39m \u001b[38;5;28;01melse\u001b[39;00m:\n\u001b[32m--> \u001b[39m\u001b[32m143\u001b[39m     \u001b[38;5;28;01mreturn\u001b[39;00m \u001b[38;5;28;43mself\u001b[39;49m\u001b[43m.\u001b[49m\u001b[43mrequest_encode_body\u001b[49m\u001b[43m(\u001b[49m\n\u001b[32m    144\u001b[39m \u001b[43m        \u001b[49m\u001b[43mmethod\u001b[49m\u001b[43m,\u001b[49m\u001b[43m \u001b[49m\u001b[43murl\u001b[49m\u001b[43m,\u001b[49m\u001b[43m \u001b[49m\u001b[43mfields\u001b[49m\u001b[43m=\u001b[49m\u001b[43mfields\u001b[49m\u001b[43m,\u001b[49m\u001b[43m \u001b[49m\u001b[43mheaders\u001b[49m\u001b[43m=\u001b[49m\u001b[43mheaders\u001b[49m\u001b[43m,\u001b[49m\u001b[43m \u001b[49m\u001b[43m*\u001b[49m\u001b[43m*\u001b[49m\u001b[43murlopen_kw\u001b[49m\n\u001b[32m    145\u001b[39m \u001b[43m    \u001b[49m\u001b[43m)\u001b[49m\n",
      "\u001b[36mFile \u001b[39m\u001b[32m~/champions-league-analysis/venv/lib/python3.13/site-packages/urllib3/_request_methods.py:278\u001b[39m, in \u001b[36mRequestMethods.request_encode_body\u001b[39m\u001b[34m(self, method, url, fields, headers, encode_multipart, multipart_boundary, **urlopen_kw)\u001b[39m\n\u001b[32m    274\u001b[39m     extra_kw[\u001b[33m\"\u001b[39m\u001b[33mheaders\u001b[39m\u001b[33m\"\u001b[39m].setdefault(\u001b[33m\"\u001b[39m\u001b[33mContent-Type\u001b[39m\u001b[33m\"\u001b[39m, content_type)\n\u001b[32m    276\u001b[39m extra_kw.update(urlopen_kw)\n\u001b[32m--> \u001b[39m\u001b[32m278\u001b[39m \u001b[38;5;28;01mreturn\u001b[39;00m \u001b[38;5;28;43mself\u001b[39;49m\u001b[43m.\u001b[49m\u001b[43murlopen\u001b[49m\u001b[43m(\u001b[49m\u001b[43mmethod\u001b[49m\u001b[43m,\u001b[49m\u001b[43m \u001b[49m\u001b[43murl\u001b[49m\u001b[43m,\u001b[49m\u001b[43m \u001b[49m\u001b[43m*\u001b[49m\u001b[43m*\u001b[49m\u001b[43mextra_kw\u001b[49m\u001b[43m)\u001b[49m\n",
      "\u001b[36mFile \u001b[39m\u001b[32m~/champions-league-analysis/venv/lib/python3.13/site-packages/urllib3/poolmanager.py:443\u001b[39m, in \u001b[36mPoolManager.urlopen\u001b[39m\u001b[34m(self, method, url, redirect, **kw)\u001b[39m\n\u001b[32m    441\u001b[39m     response = conn.urlopen(method, url, **kw)\n\u001b[32m    442\u001b[39m \u001b[38;5;28;01melse\u001b[39;00m:\n\u001b[32m--> \u001b[39m\u001b[32m443\u001b[39m     response = \u001b[43mconn\u001b[49m\u001b[43m.\u001b[49m\u001b[43murlopen\u001b[49m\u001b[43m(\u001b[49m\u001b[43mmethod\u001b[49m\u001b[43m,\u001b[49m\u001b[43m \u001b[49m\u001b[43mu\u001b[49m\u001b[43m.\u001b[49m\u001b[43mrequest_uri\u001b[49m\u001b[43m,\u001b[49m\u001b[43m \u001b[49m\u001b[43m*\u001b[49m\u001b[43m*\u001b[49m\u001b[43mkw\u001b[49m\u001b[43m)\u001b[49m\n\u001b[32m    445\u001b[39m redirect_location = redirect \u001b[38;5;129;01mand\u001b[39;00m response.get_redirect_location()\n\u001b[32m    446\u001b[39m \u001b[38;5;28;01mif\u001b[39;00m \u001b[38;5;129;01mnot\u001b[39;00m redirect_location:\n",
      "\u001b[36mFile \u001b[39m\u001b[32m~/champions-league-analysis/venv/lib/python3.13/site-packages/urllib3/connectionpool.py:787\u001b[39m, in \u001b[36mHTTPConnectionPool.urlopen\u001b[39m\u001b[34m(self, method, url, body, headers, retries, redirect, assert_same_host, timeout, pool_timeout, release_conn, chunked, body_pos, preload_content, decode_content, **response_kw)\u001b[39m\n\u001b[32m    784\u001b[39m response_conn = conn \u001b[38;5;28;01mif\u001b[39;00m \u001b[38;5;129;01mnot\u001b[39;00m release_conn \u001b[38;5;28;01melse\u001b[39;00m \u001b[38;5;28;01mNone\u001b[39;00m\n\u001b[32m    786\u001b[39m \u001b[38;5;66;03m# Make the request on the HTTPConnection object\u001b[39;00m\n\u001b[32m--> \u001b[39m\u001b[32m787\u001b[39m response = \u001b[38;5;28;43mself\u001b[39;49m\u001b[43m.\u001b[49m\u001b[43m_make_request\u001b[49m\u001b[43m(\u001b[49m\n\u001b[32m    788\u001b[39m \u001b[43m    \u001b[49m\u001b[43mconn\u001b[49m\u001b[43m,\u001b[49m\n\u001b[32m    789\u001b[39m \u001b[43m    \u001b[49m\u001b[43mmethod\u001b[49m\u001b[43m,\u001b[49m\n\u001b[32m    790\u001b[39m \u001b[43m    \u001b[49m\u001b[43murl\u001b[49m\u001b[43m,\u001b[49m\n\u001b[32m    791\u001b[39m \u001b[43m    \u001b[49m\u001b[43mtimeout\u001b[49m\u001b[43m=\u001b[49m\u001b[43mtimeout_obj\u001b[49m\u001b[43m,\u001b[49m\n\u001b[32m    792\u001b[39m \u001b[43m    \u001b[49m\u001b[43mbody\u001b[49m\u001b[43m=\u001b[49m\u001b[43mbody\u001b[49m\u001b[43m,\u001b[49m\n\u001b[32m    793\u001b[39m \u001b[43m    \u001b[49m\u001b[43mheaders\u001b[49m\u001b[43m=\u001b[49m\u001b[43mheaders\u001b[49m\u001b[43m,\u001b[49m\n\u001b[32m    794\u001b[39m \u001b[43m    \u001b[49m\u001b[43mchunked\u001b[49m\u001b[43m=\u001b[49m\u001b[43mchunked\u001b[49m\u001b[43m,\u001b[49m\n\u001b[32m    795\u001b[39m \u001b[43m    \u001b[49m\u001b[43mretries\u001b[49m\u001b[43m=\u001b[49m\u001b[43mretries\u001b[49m\u001b[43m,\u001b[49m\n\u001b[32m    796\u001b[39m \u001b[43m    \u001b[49m\u001b[43mresponse_conn\u001b[49m\u001b[43m=\u001b[49m\u001b[43mresponse_conn\u001b[49m\u001b[43m,\u001b[49m\n\u001b[32m    797\u001b[39m \u001b[43m    \u001b[49m\u001b[43mpreload_content\u001b[49m\u001b[43m=\u001b[49m\u001b[43mpreload_content\u001b[49m\u001b[43m,\u001b[49m\n\u001b[32m    798\u001b[39m \u001b[43m    \u001b[49m\u001b[43mdecode_content\u001b[49m\u001b[43m=\u001b[49m\u001b[43mdecode_content\u001b[49m\u001b[43m,\u001b[49m\n\u001b[32m    799\u001b[39m \u001b[43m    \u001b[49m\u001b[43m*\u001b[49m\u001b[43m*\u001b[49m\u001b[43mresponse_kw\u001b[49m\u001b[43m,\u001b[49m\n\u001b[32m    800\u001b[39m \u001b[43m\u001b[49m\u001b[43m)\u001b[49m\n\u001b[32m    802\u001b[39m \u001b[38;5;66;03m# Everything went great!\u001b[39;00m\n\u001b[32m    803\u001b[39m clean_exit = \u001b[38;5;28;01mTrue\u001b[39;00m\n",
      "\u001b[36mFile \u001b[39m\u001b[32m~/champions-league-analysis/venv/lib/python3.13/site-packages/urllib3/connectionpool.py:534\u001b[39m, in \u001b[36mHTTPConnectionPool._make_request\u001b[39m\u001b[34m(self, conn, method, url, body, headers, retries, timeout, chunked, response_conn, preload_content, decode_content, enforce_content_length)\u001b[39m\n\u001b[32m    532\u001b[39m \u001b[38;5;66;03m# Receive the response from the server\u001b[39;00m\n\u001b[32m    533\u001b[39m \u001b[38;5;28;01mtry\u001b[39;00m:\n\u001b[32m--> \u001b[39m\u001b[32m534\u001b[39m     response = \u001b[43mconn\u001b[49m\u001b[43m.\u001b[49m\u001b[43mgetresponse\u001b[49m\u001b[43m(\u001b[49m\u001b[43m)\u001b[49m\n\u001b[32m    535\u001b[39m \u001b[38;5;28;01mexcept\u001b[39;00m (BaseSSLError, \u001b[38;5;167;01mOSError\u001b[39;00m) \u001b[38;5;28;01mas\u001b[39;00m e:\n\u001b[32m    536\u001b[39m     \u001b[38;5;28mself\u001b[39m._raise_timeout(err=e, url=url, timeout_value=read_timeout)\n",
      "\u001b[36mFile \u001b[39m\u001b[32m~/champions-league-analysis/venv/lib/python3.13/site-packages/urllib3/connection.py:516\u001b[39m, in \u001b[36mHTTPConnection.getresponse\u001b[39m\u001b[34m(self)\u001b[39m\n\u001b[32m    513\u001b[39m _shutdown = \u001b[38;5;28mgetattr\u001b[39m(\u001b[38;5;28mself\u001b[39m.sock, \u001b[33m\"\u001b[39m\u001b[33mshutdown\u001b[39m\u001b[33m\"\u001b[39m, \u001b[38;5;28;01mNone\u001b[39;00m)\n\u001b[32m    515\u001b[39m \u001b[38;5;66;03m# Get the response from http.client.HTTPConnection\u001b[39;00m\n\u001b[32m--> \u001b[39m\u001b[32m516\u001b[39m httplib_response = \u001b[38;5;28;43msuper\u001b[39;49m\u001b[43m(\u001b[49m\u001b[43m)\u001b[49m\u001b[43m.\u001b[49m\u001b[43mgetresponse\u001b[49m\u001b[43m(\u001b[49m\u001b[43m)\u001b[49m\n\u001b[32m    518\u001b[39m \u001b[38;5;28;01mtry\u001b[39;00m:\n\u001b[32m    519\u001b[39m     assert_header_parsing(httplib_response.msg)\n",
      "\u001b[36mFile \u001b[39m\u001b[32m/opt/homebrew/Cellar/python@3.13/3.13.2/Frameworks/Python.framework/Versions/3.13/lib/python3.13/http/client.py:1430\u001b[39m, in \u001b[36mHTTPConnection.getresponse\u001b[39m\u001b[34m(self)\u001b[39m\n\u001b[32m   1428\u001b[39m \u001b[38;5;28;01mtry\u001b[39;00m:\n\u001b[32m   1429\u001b[39m     \u001b[38;5;28;01mtry\u001b[39;00m:\n\u001b[32m-> \u001b[39m\u001b[32m1430\u001b[39m         \u001b[43mresponse\u001b[49m\u001b[43m.\u001b[49m\u001b[43mbegin\u001b[49m\u001b[43m(\u001b[49m\u001b[43m)\u001b[49m\n\u001b[32m   1431\u001b[39m     \u001b[38;5;28;01mexcept\u001b[39;00m \u001b[38;5;167;01mConnectionError\u001b[39;00m:\n\u001b[32m   1432\u001b[39m         \u001b[38;5;28mself\u001b[39m.close()\n",
      "\u001b[36mFile \u001b[39m\u001b[32m/opt/homebrew/Cellar/python@3.13/3.13.2/Frameworks/Python.framework/Versions/3.13/lib/python3.13/http/client.py:331\u001b[39m, in \u001b[36mHTTPResponse.begin\u001b[39m\u001b[34m(self)\u001b[39m\n\u001b[32m    329\u001b[39m \u001b[38;5;66;03m# read until we get a non-100 response\u001b[39;00m\n\u001b[32m    330\u001b[39m \u001b[38;5;28;01mwhile\u001b[39;00m \u001b[38;5;28;01mTrue\u001b[39;00m:\n\u001b[32m--> \u001b[39m\u001b[32m331\u001b[39m     version, status, reason = \u001b[38;5;28;43mself\u001b[39;49m\u001b[43m.\u001b[49m\u001b[43m_read_status\u001b[49m\u001b[43m(\u001b[49m\u001b[43m)\u001b[49m\n\u001b[32m    332\u001b[39m     \u001b[38;5;28;01mif\u001b[39;00m status != CONTINUE:\n\u001b[32m    333\u001b[39m         \u001b[38;5;28;01mbreak\u001b[39;00m\n",
      "\u001b[36mFile \u001b[39m\u001b[32m/opt/homebrew/Cellar/python@3.13/3.13.2/Frameworks/Python.framework/Versions/3.13/lib/python3.13/http/client.py:292\u001b[39m, in \u001b[36mHTTPResponse._read_status\u001b[39m\u001b[34m(self)\u001b[39m\n\u001b[32m    291\u001b[39m \u001b[38;5;28;01mdef\u001b[39;00m\u001b[38;5;250m \u001b[39m\u001b[34m_read_status\u001b[39m(\u001b[38;5;28mself\u001b[39m):\n\u001b[32m--> \u001b[39m\u001b[32m292\u001b[39m     line = \u001b[38;5;28mstr\u001b[39m(\u001b[38;5;28;43mself\u001b[39;49m\u001b[43m.\u001b[49m\u001b[43mfp\u001b[49m\u001b[43m.\u001b[49m\u001b[43mreadline\u001b[49m\u001b[43m(\u001b[49m\u001b[43m_MAXLINE\u001b[49m\u001b[43m \u001b[49m\u001b[43m+\u001b[49m\u001b[43m \u001b[49m\u001b[32;43m1\u001b[39;49m\u001b[43m)\u001b[49m, \u001b[33m\"\u001b[39m\u001b[33miso-8859-1\u001b[39m\u001b[33m\"\u001b[39m)\n\u001b[32m    293\u001b[39m     \u001b[38;5;28;01mif\u001b[39;00m \u001b[38;5;28mlen\u001b[39m(line) > _MAXLINE:\n\u001b[32m    294\u001b[39m         \u001b[38;5;28;01mraise\u001b[39;00m LineTooLong(\u001b[33m\"\u001b[39m\u001b[33mstatus line\u001b[39m\u001b[33m\"\u001b[39m)\n",
      "\u001b[36mFile \u001b[39m\u001b[32m/opt/homebrew/Cellar/python@3.13/3.13.2/Frameworks/Python.framework/Versions/3.13/lib/python3.13/socket.py:719\u001b[39m, in \u001b[36mSocketIO.readinto\u001b[39m\u001b[34m(self, b)\u001b[39m\n\u001b[32m    717\u001b[39m     \u001b[38;5;28;01mraise\u001b[39;00m \u001b[38;5;167;01mOSError\u001b[39;00m(\u001b[33m\"\u001b[39m\u001b[33mcannot read from timed out object\u001b[39m\u001b[33m\"\u001b[39m)\n\u001b[32m    718\u001b[39m \u001b[38;5;28;01mtry\u001b[39;00m:\n\u001b[32m--> \u001b[39m\u001b[32m719\u001b[39m     \u001b[38;5;28;01mreturn\u001b[39;00m \u001b[38;5;28;43mself\u001b[39;49m\u001b[43m.\u001b[49m\u001b[43m_sock\u001b[49m\u001b[43m.\u001b[49m\u001b[43mrecv_into\u001b[49m\u001b[43m(\u001b[49m\u001b[43mb\u001b[49m\u001b[43m)\u001b[49m\n\u001b[32m    720\u001b[39m \u001b[38;5;28;01mexcept\u001b[39;00m timeout:\n\u001b[32m    721\u001b[39m     \u001b[38;5;28mself\u001b[39m._timeout_occurred = \u001b[38;5;28;01mTrue\u001b[39;00m\n",
      "\u001b[31mKeyboardInterrupt\u001b[39m: "
     ]
    }
   ],
   "source": [
    "# 🔹 Executar a coleta de estatísticas para todas as temporadas\n",
    "for temporada, url in temporadas_urls.items():\n",
    "    coletar_dados_temporada(temporada, url)\n",
    "\n",
    "# 🔹 Fechar o navegador ao final do processo\n",
    "driver.quit()\n",
    "print(\"✅ Web scraping concluído! Navegador fechado.\")"
   ]
  }
 ],
 "metadata": {
  "kernelspec": {
   "display_name": "venv",
   "language": "python",
   "name": "python3"
  },
  "language_info": {
   "codemirror_mode": {
    "name": "ipython",
    "version": 3
   },
   "file_extension": ".py",
   "mimetype": "text/x-python",
   "name": "python",
   "nbconvert_exporter": "python",
   "pygments_lexer": "ipython3",
   "version": "3.13.2"
  }
 },
 "nbformat": 4,
 "nbformat_minor": 5
}
